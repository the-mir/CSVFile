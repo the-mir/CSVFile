{
  "cells": [
    {
      "cell_type": "markdown",
      "metadata": {
        "id": "view-in-github",
        "colab_type": "text"
      },
      "source": [
        "<a href=\"https://colab.research.google.com/github/the-mir/CSVFile/blob/main/CSVFile.ipynb\" target=\"_parent\"><img src=\"https://colab.research.google.com/assets/colab-badge.svg\" alt=\"Open In Colab\"/></a>"
      ]
    },
    {
      "cell_type": "code",
      "execution_count": 1,
      "metadata": {
        "colab": {
          "base_uri": "https://localhost:8080/"
        },
        "id": "zL7HAmd69n7F",
        "outputId": "17163bd3-2a66-4aca-bf72-861fe54583d2"
      },
      "outputs": [
        {
          "output_type": "stream",
          "name": "stdout",
          "text": [
            "Mounted at /content/drive\n"
          ]
        }
      ],
      "source": [
        "import pandas as pd\n",
        "import numpy as np\n",
        "import matplotlib.pyplot as plt\n",
        "from google.colab import drive\n",
        "drive.mount('/content/drive')"
      ]
    },
    {
      "cell_type": "code",
      "execution_count": 2,
      "metadata": {
        "colab": {
          "base_uri": "https://localhost:8080/"
        },
        "id": "7sYGbg0n-pSO",
        "outputId": "451e84e4-28c7-4600-a560-194e7b72f9f2"
      },
      "outputs": [
        {
          "output_type": "stream",
          "name": "stdout",
          "text": [
            "      Id  SepalLengthCm  SepalWidthCm  PetalLengthCm  PetalWidthCm  \\\n",
            "0      1            5.1           3.5            1.4           0.2   \n",
            "1      2            4.9           3.0            1.4           0.2   \n",
            "2      3            4.7           3.2            1.3           0.2   \n",
            "3      4            4.6           3.1            1.5           0.2   \n",
            "4      5            5.0           3.6            1.4           0.2   \n",
            "..   ...            ...           ...            ...           ...   \n",
            "145  146            6.7           3.0            5.2           2.3   \n",
            "146  147            6.3           2.5            5.0           1.9   \n",
            "147  148            6.5           3.0            5.2           2.0   \n",
            "148  149            6.2           3.4            5.4           2.3   \n",
            "149  150            5.9           3.0            5.1           1.8   \n",
            "\n",
            "            Species  \n",
            "0       Iris-setosa  \n",
            "1       Iris-setosa  \n",
            "2       Iris-setosa  \n",
            "3       Iris-setosa  \n",
            "4       Iris-setosa  \n",
            "..              ...  \n",
            "145  Iris-virginica  \n",
            "146  Iris-virginica  \n",
            "147  Iris-virginica  \n",
            "148  Iris-virginica  \n",
            "149  Iris-virginica  \n",
            "\n",
            "[150 rows x 6 columns]\n"
          ]
        }
      ],
      "source": [
        "DIRECTORY = r\"/content/drive/MyDrive/CSVFileDataSet/Iris.csv\"\n",
        "df = pd.read_csv(DIRECTORY)\n",
        "print(df)"
      ]
    },
    {
      "cell_type": "code",
      "execution_count": 3,
      "metadata": {
        "id": "uEo1tp2wAcTR"
      },
      "outputs": [],
      "source": [
        "independent_vars = df.iloc[:, :-1]\n",
        "dependent_var = df.iloc[:, -1]"
      ]
    },
    {
      "cell_type": "code",
      "execution_count": 4,
      "metadata": {
        "colab": {
          "base_uri": "https://localhost:8080/"
        },
        "id": "psxsaBgSAgBw",
        "outputId": "71cf56df-0f2d-402c-80d0-51ad339941aa"
      },
      "outputs": [
        {
          "output_type": "stream",
          "name": "stdout",
          "text": [
            "Independent Variables:\n",
            "      Id  SepalLengthCm  SepalWidthCm  PetalLengthCm  PetalWidthCm\n",
            "0      1            5.1           3.5            1.4           0.2\n",
            "1      2            4.9           3.0            1.4           0.2\n",
            "2      3            4.7           3.2            1.3           0.2\n",
            "3      4            4.6           3.1            1.5           0.2\n",
            "4      5            5.0           3.6            1.4           0.2\n",
            "..   ...            ...           ...            ...           ...\n",
            "145  146            6.7           3.0            5.2           2.3\n",
            "146  147            6.3           2.5            5.0           1.9\n",
            "147  148            6.5           3.0            5.2           2.0\n",
            "148  149            6.2           3.4            5.4           2.3\n",
            "149  150            5.9           3.0            5.1           1.8\n",
            "\n",
            "[150 rows x 5 columns]\n",
            "\n",
            "Dependent Variable:\n",
            "0         Iris-setosa\n",
            "1         Iris-setosa\n",
            "2         Iris-setosa\n",
            "3         Iris-setosa\n",
            "4         Iris-setosa\n",
            "            ...      \n",
            "145    Iris-virginica\n",
            "146    Iris-virginica\n",
            "147    Iris-virginica\n",
            "148    Iris-virginica\n",
            "149    Iris-virginica\n",
            "Name: Species, Length: 150, dtype: object\n"
          ]
        }
      ],
      "source": [
        "print(\"Independent Variables:\")\n",
        "print(independent_vars)\n",
        "print(\"\\nDependent Variable:\")\n",
        "print(dependent_var)"
      ]
    },
    {
      "cell_type": "code",
      "execution_count": 5,
      "metadata": {
        "colab": {
          "base_uri": "https://localhost:8080/"
        },
        "id": "_6PBHzisBTh_",
        "outputId": "7ef2e29e-e5c2-42a7-d8d3-98df20cdd7e4"
      },
      "outputs": [
        {
          "output_type": "stream",
          "name": "stdout",
          "text": [
            "\n",
            "Missing Data Count: 0\n"
          ]
        }
      ],
      "source": [
        "missing_data_count = df.isnull().sum().sum()\n",
        "print(\"\\nMissing Data Count:\", missing_data_count)"
      ]
    },
    {
      "cell_type": "code",
      "execution_count": 6,
      "metadata": {
        "id": "-98nplan68dh"
      },
      "outputs": [],
      "source": [
        "column_to_drop = df.columns[0]\n",
        "df = df.drop(columns=column_to_drop)"
      ]
    },
    {
      "cell_type": "code",
      "source": [
        "column_names = df.columns.tolist()\n",
        "print(\"\\nAll Column Names:\")\n",
        "print(column_names)"
      ],
      "metadata": {
        "colab": {
          "base_uri": "https://localhost:8080/"
        },
        "id": "HZfzl45f_GU2",
        "outputId": "43bae704-d944-4533-f225-bd80e7a23f64"
      },
      "execution_count": 7,
      "outputs": [
        {
          "output_type": "stream",
          "name": "stdout",
          "text": [
            "\n",
            "All Column Names:\n",
            "['SepalLengthCm', 'SepalWidthCm', 'PetalLengthCm', 'PetalWidthCm', 'Species']\n"
          ]
        }
      ]
    },
    {
      "cell_type": "code",
      "source": [
        "value_counts = df['PetalWidthCm'].value_counts()\n",
        "\n",
        "print(\"\\nValue Counts:\")\n",
        "print(value_counts)"
      ],
      "metadata": {
        "colab": {
          "base_uri": "https://localhost:8080/"
        },
        "id": "INdxbFrmB1vA",
        "outputId": "3f4c2f83-d64d-4202-fa80-1e2ae1024b90"
      },
      "execution_count": 8,
      "outputs": [
        {
          "output_type": "stream",
          "name": "stdout",
          "text": [
            "\n",
            "Value Counts:\n",
            "0.2    28\n",
            "1.3    13\n",
            "1.8    12\n",
            "1.5    12\n",
            "1.4     8\n",
            "2.3     8\n",
            "1.0     7\n",
            "0.4     7\n",
            "0.3     7\n",
            "0.1     6\n",
            "2.1     6\n",
            "2.0     6\n",
            "1.2     5\n",
            "1.9     5\n",
            "1.6     4\n",
            "2.5     3\n",
            "2.2     3\n",
            "2.4     3\n",
            "1.1     3\n",
            "1.7     2\n",
            "0.6     1\n",
            "0.5     1\n",
            "Name: PetalWidthCm, dtype: int64\n"
          ]
        }
      ]
    },
    {
      "cell_type": "code",
      "source": [
        "df.rename(columns={\"Species\" : \"Mir\"},inplace=True)"
      ],
      "metadata": {
        "id": "O-rrkBjLFTa0"
      },
      "execution_count": 9,
      "outputs": []
    },
    {
      "cell_type": "code",
      "source": [
        "column_headers = list(df.columns.values)\n",
        "print(column_headers)"
      ],
      "metadata": {
        "id": "ncpUBSuTG82I",
        "colab": {
          "base_uri": "https://localhost:8080/"
        },
        "outputId": "3e6e7ef8-3dac-461a-c670-2db5aeea3cda"
      },
      "execution_count": 10,
      "outputs": [
        {
          "output_type": "stream",
          "name": "stdout",
          "text": [
            "['SepalLengthCm', 'SepalWidthCm', 'PetalLengthCm', 'PetalWidthCm', 'Mir']\n"
          ]
        }
      ]
    },
    {
      "cell_type": "code",
      "source": [
        "value_counts = df.value_counts()\n",
        "\n",
        "print(\"\\nValue Counts:\")\n",
        "print(value_counts)"
      ],
      "metadata": {
        "colab": {
          "base_uri": "https://localhost:8080/"
        },
        "id": "OKIfr9nqRDbG",
        "outputId": "03ce2032-dd3e-4872-e32d-fdb7efb9b472"
      },
      "execution_count": 11,
      "outputs": [
        {
          "output_type": "stream",
          "name": "stdout",
          "text": [
            "\n",
            "Value Counts:\n",
            "SepalLengthCm  SepalWidthCm  PetalLengthCm  PetalWidthCm  Mir            \n",
            "4.9            3.1           1.5            0.1           Iris-setosa        3\n",
            "5.8            2.7           5.1            1.9           Iris-virginica     2\n",
            "               4.0           1.2            0.2           Iris-setosa        1\n",
            "5.9            3.0           4.2            1.5           Iris-versicolor    1\n",
            "6.2            3.4           5.4            2.3           Iris-virginica     1\n",
            "                                                                            ..\n",
            "5.5            2.3           4.0            1.3           Iris-versicolor    1\n",
            "               2.4           3.7            1.0           Iris-versicolor    1\n",
            "                             3.8            1.1           Iris-versicolor    1\n",
            "               2.5           4.0            1.3           Iris-versicolor    1\n",
            "7.9            3.8           6.4            2.0           Iris-virginica     1\n",
            "Length: 147, dtype: int64\n"
          ]
        }
      ]
    },
    {
      "cell_type": "code",
      "source": [
        "df.PetalLengthCm.value_counts().plot(kind='bar')\n",
        "plt.xlabel('PetalLengthCm')\n",
        "plt.ylabel('Count')\n",
        "plt.title('Value Counts of PetalLengthCm')\n",
        "plt.xticks(rotation=45)\n",
        "plt.show()"
      ],
      "metadata": {
        "colab": {
          "base_uri": "https://localhost:8080/",
          "height": 483
        },
        "id": "vE-gTo3VC0-N",
        "outputId": "113f8a38-29c8-47da-97b4-780240f3144e"
      },
      "execution_count": 12,
      "outputs": [
        {
          "output_type": "display_data",
          "data": {
            "text/plain": [
              "<Figure size 640x480 with 1 Axes>"
            ],
            "image/png": "[encoded data removed]"
          },
          "metadata": {}
        }
      ]
    },
    {
      "cell_type": "code",
      "source": [
        "duplicated_values = df.pivot_table(index =['PetalLengthCm'],aggfunc='size')\n",
        "print(\"\\nDuplicated:\")\n",
        "print(duplicated_values)"
      ],
      "metadata": {
        "id": "AkObAprHIHlJ",
        "outputId": "01914df9-5733-41af-c49a-dd95a1cc9039",
        "colab": {
          "base_uri": "https://localhost:8080/"
        }
      },
      "execution_count": 13,
      "outputs": [
        {
          "output_type": "stream",
          "name": "stdout",
          "text": [
            "\n",
            "Duplicated:\n",
            "PetalLengthCm\n",
            "1.0     1\n",
            "1.1     1\n",
            "1.2     2\n",
            "1.3     7\n",
            "1.4    12\n",
            "1.5    14\n",
            "1.6     7\n",
            "1.7     4\n",
            "1.9     2\n",
            "3.0     1\n",
            "3.3     2\n",
            "3.5     2\n",
            "3.6     1\n",
            "3.7     1\n",
            "3.8     1\n",
            "3.9     3\n",
            "4.0     5\n",
            "4.1     3\n",
            "4.2     4\n",
            "4.3     2\n",
            "4.4     4\n",
            "4.5     8\n",
            "4.6     3\n",
            "4.7     5\n",
            "4.8     4\n",
            "4.9     5\n",
            "5.0     4\n",
            "5.1     8\n",
            "5.2     2\n",
            "5.3     2\n",
            "5.4     2\n",
            "5.5     3\n",
            "5.6     6\n",
            "5.7     3\n",
            "5.8     3\n",
            "5.9     2\n",
            "6.0     2\n",
            "6.1     3\n",
            "6.3     1\n",
            "6.4     1\n",
            "6.6     1\n",
            "6.7     2\n",
            "6.9     1\n",
            "dtype: int64\n"
          ]
        }
      ]
    },
    {
      "cell_type": "code",
      "source": [
        "x_label = 'PetalLengthCm'\n",
        "y_label = 'PetalWidthCm'"
      ],
      "metadata": {
        "id": "pc--XXygIjHj"
      },
      "execution_count": 15,
      "outputs": []
    },
    {
      "cell_type": "code",
      "source": [
        "plt.figure(figsize=(8, 6))\n",
        "plt.scatter(df[x_label], df[y_label], c='blue', marker='o', label='Iris Data')\n",
        "plt.xlabel(x_label)\n",
        "plt.ylabel(y_label)\n",
        "plt.title(f'Scatter Plot: {x_label} vs. {y_label}')\n",
        "plt.legend()\n",
        "plt.grid(True)\n",
        "plt.show()"
      ],
      "metadata": {
        "id": "4sResDc_HeK4",
        "outputId": "98c0c352-33a7-4076-dd93-9c47f01b3865",
        "colab": {
          "base_uri": "https://localhost:8080/",
          "height": 564
        }
      },
      "execution_count": 16,
      "outputs": [
        {
          "output_type": "display_data",
          "data": {
            "text/plain": [
              "<Figure size 800x600 with 1 Axes>"
            ],
            "image/png": "[encoded data removed]"
          },
          "metadata": {}
        }
      ]
    }
  ],
  "metadata": {
    "colab": {
      "provenance": [],
      "authorship_tag": "ABX9TyMPuQaTZbk3N81PeQl0OK45",
      "include_colab_link": true
    },
    "kernelspec": {
      "display_name": "Python 3",
      "name": "python3"
    },
    "language_info": {
      "name": "python"
    }
  },
  "nbformat": 4,
  "nbformat_minor": 0
}
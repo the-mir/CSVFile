{
  "cells": [
    {
      "cell_type": "markdown",
      "metadata": {
        "id": "view-in-github",
        "colab_type": "text"
      },
      "source": [
        "<a href=\"https://colab.research.google.com/github/the-mir/CSVFile/blob/main/CSVFile.ipynb\" target=\"_parent\"><img src=\"https://colab.research.google.com/assets/colab-badge.svg\" alt=\"Open In Colab\"/></a>"
      ]
    },
    {
      "cell_type": "code",
      "execution_count": null,
      "metadata": {
        "colab": {
          "base_uri": "https://localhost:8080/"
        },
        "id": "zL7HAmd69n7F",
        "outputId": "cddc182a-96a9-4871-e9ae-5800a945a1c0"
      },
      "outputs": [
        {
          "output_type": "stream",
          "name": "stdout",
          "text": [
            "Mounted at /content/drive\n"
          ]
        }
      ],
      "source": [
        "import pandas as pd\n",
        "import numpy as np\n",
        "from google.colab import drive\n",
        "drive.mount('/content/drive')"
      ]
    },
    {
      "cell_type": "code",
      "execution_count": null,
      "metadata": {
        "colab": {
          "base_uri": "https://localhost:8080/"
        },
        "id": "7sYGbg0n-pSO",
        "outputId": "57f1e3de-0e4c-4e95-cc87-6fc553254c43"
      },
      "outputs": [
        {
          "output_type": "stream",
          "name": "stdout",
          "text": [
            "      Id  SepalLengthCm  SepalWidthCm  PetalLengthCm  PetalWidthCm  \\\n",
            "0      1            5.1           3.5            1.4           0.2   \n",
            "1      2            4.9           3.0            1.4           0.2   \n",
            "2      3            4.7           3.2            1.3           0.2   \n",
            "3      4            4.6           3.1            1.5           0.2   \n",
            "4      5            5.0           3.6            1.4           0.2   \n",
            "..   ...            ...           ...            ...           ...   \n",
            "145  146            6.7           3.0            5.2           2.3   \n",
            "146  147            6.3           2.5            5.0           1.9   \n",
            "147  148            6.5           3.0            5.2           2.0   \n",
            "148  149            6.2           3.4            5.4           2.3   \n",
            "149  150            5.9           3.0            5.1           1.8   \n",
            "\n",
            "            Species  \n",
            "0       Iris-setosa  \n",
            "1       Iris-setosa  \n",
            "2       Iris-setosa  \n",
            "3       Iris-setosa  \n",
            "4       Iris-setosa  \n",
            "..              ...  \n",
            "145  Iris-virginica  \n",
            "146  Iris-virginica  \n",
            "147  Iris-virginica  \n",
            "148  Iris-virginica  \n",
            "149  Iris-virginica  \n",
            "\n",
            "[150 rows x 6 columns]\n"
          ]
        }
      ],
      "source": [
        "DIRECTORY = r\"/content/drive/MyDrive/CSVFileDataSet/Iris.csv\"\n",
        "df = pd.read_csv(DIRECTORY)\n",
        "print(df)"
      ]
    },
    {
      "cell_type": "code",
      "execution_count": null,
      "metadata": {
        "id": "uEo1tp2wAcTR"
      },
      "outputs": [],
      "source": [
        "independent_vars = df.iloc[:, :-1]\n",
        "dependent_var = df.iloc[:, -1]"
      ]
    },
    {
      "cell_type": "code",
      "execution_count": null,
      "metadata": {
        "colab": {
          "base_uri": "https://localhost:8080/"
        },
        "id": "psxsaBgSAgBw",
        "outputId": "a8b7ee70-0a7a-4433-ff1f-ff66d5af5040"
      },
      "outputs": [
        {
          "output_type": "stream",
          "name": "stdout",
          "text": [
            "Independent Variables:\n",
            "      Id  SepalLengthCm  SepalWidthCm  PetalLengthCm  PetalWidthCm\n",
            "0      1            5.1           3.5            1.4           0.2\n",
            "1      2            4.9           3.0            1.4           0.2\n",
            "2      3            4.7           3.2            1.3           0.2\n",
            "3      4            4.6           3.1            1.5           0.2\n",
            "4      5            5.0           3.6            1.4           0.2\n",
            "..   ...            ...           ...            ...           ...\n",
            "145  146            6.7           3.0            5.2           2.3\n",
            "146  147            6.3           2.5            5.0           1.9\n",
            "147  148            6.5           3.0            5.2           2.0\n",
            "148  149            6.2           3.4            5.4           2.3\n",
            "149  150            5.9           3.0            5.1           1.8\n",
            "\n",
            "[150 rows x 5 columns]\n",
            "\n",
            "Dependent Variable:\n",
            "0         Iris-setosa\n",
            "1         Iris-setosa\n",
            "2         Iris-setosa\n",
            "3         Iris-setosa\n",
            "4         Iris-setosa\n",
            "            ...      \n",
            "145    Iris-virginica\n",
            "146    Iris-virginica\n",
            "147    Iris-virginica\n",
            "148    Iris-virginica\n",
            "149    Iris-virginica\n",
            "Name: Species, Length: 150, dtype: object\n"
          ]
        }
      ],
      "source": [
        "print(\"Independent Variables:\")\n",
        "print(independent_vars)\n",
        "print(\"\\nDependent Variable:\")\n",
        "print(dependent_var)"
      ]
    },
    {
      "cell_type": "code",
      "execution_count": null,
      "metadata": {
        "colab": {
          "base_uri": "https://localhost:8080/"
        },
        "id": "_6PBHzisBTh_",
        "outputId": "cbb93ca5-d1ce-4372-f31f-de26d3e78878"
      },
      "outputs": [
        {
          "output_type": "stream",
          "name": "stdout",
          "text": [
            "\n",
            "Missing Data Count: 0\n"
          ]
        }
      ],
      "source": [
        "missing_data_count = df.isnull().sum().sum()\n",
        "print(\"\\nMissing Data Count:\", missing_data_count)"
      ]
    },
    {
      "cell_type": "code",
      "execution_count": null,
      "metadata": {
        "id": "-98nplan68dh"
      },
      "outputs": [],
      "source": [
        "column_to_drop = df.columns[0]\n",
        "df = df.drop(columns=column_to_drop)"
      ]
    },
    {
      "cell_type": "code",
      "source": [
        "column_names = df.columns.tolist()\n",
        "print(\"\\nAll Column Names:\")\n",
        "print(column_names)"
      ],
      "metadata": {
        "colab": {
          "base_uri": "https://localhost:8080/"
        },
        "id": "HZfzl45f_GU2",
        "outputId": "0c00a6d1-bd9f-4da5-8975-9dacbc35bcea"
      },
      "execution_count": null,
      "outputs": [
        {
          "output_type": "stream",
          "name": "stdout",
          "text": [
            "\n",
            "All Column Names:\n",
            "['SepalLengthCm', 'SepalWidthCm', 'PetalLengthCm', 'PetalWidthCm', 'Species']\n"
          ]
        }
      ]
    },
    {
      "cell_type": "code",
      "source": [
        "value_counts = df['PetalWidthCm'].value_counts()\n",
        "\n",
        "print(\"\\nValue Counts:\")\n",
        "print(value_counts)"
      ],
      "metadata": {
        "colab": {
          "base_uri": "https://localhost:8080/"
        },
        "id": "INdxbFrmB1vA",
        "outputId": "8de07558-d82c-4ec1-961d-1b48f77778bc"
      },
      "execution_count": null,
      "outputs": [
        {
          "output_type": "stream",
          "name": "stdout",
          "text": [
            "\n",
            "Value Counts:\n",
            "0.2    28\n",
            "1.3    13\n",
            "1.8    12\n",
            "1.5    12\n",
            "1.4     8\n",
            "2.3     8\n",
            "1.0     7\n",
            "0.4     7\n",
            "0.3     7\n",
            "0.1     6\n",
            "2.1     6\n",
            "2.0     6\n",
            "1.2     5\n",
            "1.9     5\n",
            "1.6     4\n",
            "2.5     3\n",
            "2.2     3\n",
            "2.4     3\n",
            "1.1     3\n",
            "1.7     2\n",
            "0.6     1\n",
            "0.5     1\n",
            "Name: PetalWidthCm, dtype: int64\n"
          ]
        }
      ]
    },
    {
      "cell_type": "code",
      "source": [
        "df.rename(columns={\"Species\" : \"Mir\"},inplace=True)"
      ],
      "metadata": {
        "id": "O-rrkBjLFTa0"
      },
      "execution_count": null,
      "outputs": []
    },
    {
      "cell_type": "code",
      "source": [
        "column_headers = list(df.columns.values)\n",
        "print(column_headers)"
      ],
      "metadata": {
        "id": "ncpUBSuTG82I",
        "colab": {
          "base_uri": "https://localhost:8080/"
        },
        "outputId": "8f4c2993-9af4-47d0-ccb9-271abc79b752"
      },
      "execution_count": null,
      "outputs": [
        {
          "output_type": "stream",
          "name": "stdout",
          "text": [
            "['SepalLengthCm', 'SepalWidthCm', 'PetalLengthCm', 'PetalWidthCm', 'Mir']\n"
          ]
        }
      ]
    },
    {
      "cell_type": "code",
      "source": [
        "value_counts = df.value_counts()\n",
        "\n",
        "print(\"\\nValue Counts:\")\n",
        "print(value_counts)"
      ],
      "metadata": {
        "colab": {
          "base_uri": "https://localhost:8080/"
        },
        "id": "OKIfr9nqRDbG",
        "outputId": "2f3630ad-d7f2-4ab0-b96f-57dbd835b278"
      },
      "execution_count": null,
      "outputs": [
        {
          "output_type": "stream",
          "name": "stdout",
          "text": [
            "\n",
            "Value Counts:\n",
            "SepalLengthCm  SepalWidthCm  PetalLengthCm  PetalWidthCm  Mir            \n",
            "4.9            3.1           1.5            0.1           Iris-setosa        3\n",
            "5.8            2.7           5.1            1.9           Iris-virginica     2\n",
            "               4.0           1.2            0.2           Iris-setosa        1\n",
            "5.9            3.0           4.2            1.5           Iris-versicolor    1\n",
            "6.2            3.4           5.4            2.3           Iris-virginica     1\n",
            "                                                                            ..\n",
            "5.5            2.3           4.0            1.3           Iris-versicolor    1\n",
            "               2.4           3.7            1.0           Iris-versicolor    1\n",
            "                             3.8            1.1           Iris-versicolor    1\n",
            "               2.5           4.0            1.3           Iris-versicolor    1\n",
            "7.9            3.8           6.4            2.0           Iris-virginica     1\n",
            "Length: 147, dtype: int64\n"
          ]
        }
      ]
    }
  ],
  "metadata": {
    "colab": {
      "provenance": [],
      "authorship_tag": "ABX9TyNFrtu2WK88sOar1nHtyv0j",
      "include_colab_link": true
    },
    "kernelspec": {
      "display_name": "Python 3",
      "name": "python3"
    },
    "language_info": {
      "name": "python"
    }
  },
  "nbformat": 4,
  "nbformat_minor": 0
}